{
 "cells": [
  {
   "cell_type": "code",
   "execution_count": 3,
   "metadata": {},
   "outputs": [
    {
     "name": "stderr",
     "output_type": "stream",
     "text": [
      "C:\\Users\\Gorgeous\\AppData\\Local\\Temp\\ipykernel_16908\\1062334050.py:12: GradioDeprecationWarning: Usage of gradio.inputs is deprecated, and will not be supported in the future, please import your component from gradio.components\n",
      "  gr.inputs.Audio(source=\"microphone\", type=\"filepath\", label=\"Record Audio\"),\n",
      "C:\\Users\\Gorgeous\\AppData\\Local\\Temp\\ipykernel_16908\\1062334050.py:12: GradioDeprecationWarning: `optional` parameter is deprecated, and it has no effect\n",
      "  gr.inputs.Audio(source=\"microphone\", type=\"filepath\", label=\"Record Audio\"),\n",
      "C:\\Users\\Gorgeous\\AppData\\Local\\Temp\\ipykernel_16908\\1062334050.py:13: GradioDeprecationWarning: Usage of gradio.inputs is deprecated, and will not be supported in the future, please import your component from gradio.components\n",
      "  gr.inputs.Audio(source=\"upload\", type=\"filepath\", label=\"Upload Audio File\"),\n",
      "C:\\Users\\Gorgeous\\AppData\\Local\\Temp\\ipykernel_16908\\1062334050.py:13: GradioDeprecationWarning: `optional` parameter is deprecated, and it has no effect\n",
      "  gr.inputs.Audio(source=\"upload\", type=\"filepath\", label=\"Upload Audio File\"),\n"
     ]
    }
   ],
   "source": [
    "import gradio as gr\n",
    "\n",
    "\n",
    "def speaker_recognition(audio_data_1, audio_data_2):\n",
    "    # 你的识别逻辑\n",
    "    # 可以选择使用 audio_data_1 或 audio_data_2\n",
    "    # 根据哪个参数非 None 来处理相应的音频数据\n",
    "    return \"识别的说话人为赵钦\"\n",
    "\n",
    "\n",
    "inputs = [\n",
    "    gr.inputs.Audio(source=\"microphone\", type=\"filepath\", label=\"Record Audio\"),\n",
    "    gr.inputs.Audio(source=\"upload\", type=\"filepath\", label=\"Upload Audio File\"),\n",
    "]\n",
    "\n",
    "iface = gr.Interface(\n",
    "    fn=speaker_recognition,\n",
    "    inputs=inputs,\n",
    "    outputs=\"text\",\n",
    ")"
   ]
  },
  {
   "cell_type": "code",
   "execution_count": 4,
   "metadata": {},
   "outputs": [
    {
     "name": "stdout",
     "output_type": "stream",
     "text": [
      "Running on local URL:  http://127.0.0.1:7861\n",
      "\n",
      "To create a public link, set `share=True` in `launch()`.\n"
     ]
    },
    {
     "data": {
      "text/html": [
       "<div><iframe src=\"http://127.0.0.1:7861/\" width=\"100%\" height=\"500\" allow=\"autoplay; camera; microphone; clipboard-read; clipboard-write;\" frameborder=\"0\" allowfullscreen></iframe></div>"
      ],
      "text/plain": [
       "<IPython.core.display.HTML object>"
      ]
     },
     "metadata": {},
     "output_type": "display_data"
    },
    {
     "data": {
      "text/plain": []
     },
     "execution_count": 4,
     "metadata": {},
     "output_type": "execute_result"
    },
    {
     "name": "stderr",
     "output_type": "stream",
     "text": [
      "c:\\Users\\Gorgeous\\anaconda3\\envs\\show1\\Lib\\site-packages\\gradio\\processing_utils.py:188: UserWarning: Trying to convert audio automatically from int32 to 16-bit int format.\n",
      "  warnings.warn(warning.format(data.dtype))\n"
     ]
    }
   ],
   "source": [
    "iface.launch()"
   ]
  },
  {
   "cell_type": "markdown",
   "metadata": {},
   "source": [
    "根据你提供的错误信息，主要有两个问题需要解决：\n",
    "\n",
    "1. **ffprobe 或 avprobe 未找到**：这个警告表明 Gradio 在处理音频时依赖的 `ffprobe` 或 `avprobe` 工具没有安装或不在系统的路径中。这些工具是 FFmpeg 的一部分，用于处理音频和视频文件。\n",
    "\n",
    "2. **FileNotFoundError**：这个错误发生在尝试使用 `pydub` 处理音频文件时，由于找不到所需的外部程序导致的。这通常是由于 FFmpeg 没有安装或者没有正确设置环境变量导致的。\n",
    "\n",
    "为了解决这些问题，请按照以下步骤操作：\n",
    "\n",
    "### 安装 FFmpeg\n",
    "\n",
    "1. **下载 FFmpeg**：访问 [FFmpeg 官网](https://ffmpeg.org/download.html) 下载适用于 Windows 的 FFmpeg。\n",
    "\n",
    "2. **安装 FFmpeg**：解压下载的文件，并将其放置在你的系统中的某个目录里（例如 `C:\\FFmpeg`）。\n",
    "\n",
    "3. **设置环境变量**：\n",
    "   - 在 Windows 搜索中输入“环境变量”并打开“编辑系统环境变量”。\n",
    "   - 在“系统属性”窗口中，点击“环境变量”。\n",
    "   - 在“系统变量”部分，找到并选择“Path”变量，然后点击“编辑”。\n",
    "   - 点击“新建”，添加 FFmpeg 的 bin 目录路径（例如 `C:\\FFmpeg\\bin`）。\n",
    "   - 点击“确定”保存更改。\n",
    "\n",
    "4. **重启你的开发环境**：如果你使用的是命令行或 IDE，重启它们以使环境变量更改生效。\n",
    "\n",
    "完成这些步骤后，再次尝试运行你的 Gradio 界面。如果问题依然存在，可能需要检查你的代码以确定是否有其他问题。"
   ]
  }
 ],
 "metadata": {
  "kernelspec": {
   "display_name": "show1",
   "language": "python",
   "name": "python3"
  },
  "language_info": {
   "codemirror_mode": {
    "name": "ipython",
    "version": 3
   },
   "file_extension": ".py",
   "mimetype": "text/x-python",
   "name": "python",
   "nbconvert_exporter": "python",
   "pygments_lexer": "ipython3",
   "version": "3.11.5"
  }
 },
 "nbformat": 4,
 "nbformat_minor": 2
}
